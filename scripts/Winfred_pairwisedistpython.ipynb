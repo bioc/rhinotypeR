{
 "cells": [
  {
   "cell_type": "code",
   "execution_count": 2,
   "id": "f4f47797-7c2a-45f2-9361-227d38cf2963",
   "metadata": {},
   "outputs": [],
   "source": [
    "# Pairwise distance using pairsnp\n",
    "# Install pairsnp"
   ]
  },
  {
   "cell_type": "code",
   "execution_count": 3,
   "id": "3730291f-6589-4aea-a3a8-67e07d7a3a89",
   "metadata": {},
   "outputs": [],
   "source": [
    "#!pip install pairsnp"
   ]
  },
  {
   "cell_type": "markdown",
   "id": "d6b5929c-7512-48bb-ba73-aa2addf7b745",
   "metadata": {},
   "source": [
    "[Pairsnp](https://pypi.org/project/pairsnp/).   \n",
    "!pairsnp -h # getting help"
   ]
  },
  {
   "cell_type": "raw",
   "id": "2bc17691-a23a-4529-8cb8-80814d897952",
   "metadata": {},
   "source": [
    "!pairsnp -h # getting help"
   ]
  },
  {
   "cell_type": "code",
   "execution_count": 15,
   "id": "26fd33cf-de75-415e-af0d-deb49520b534",
   "metadata": {},
   "outputs": [],
   "source": [
    "# Use pairsnp on command line to calculate the pairwise distances\n",
    "!pairsnp -f test_realigned.fasta -t dist -o test_realign.csv"
   ]
  },
  {
   "cell_type": "code",
   "execution_count": 16,
   "id": "6ccab355-f323-4746-afad-074f3965fc37",
   "metadata": {},
   "outputs": [
    {
     "data": {
      "text/html": [
       "<div>\n",
       "<style scoped>\n",
       "    .dataframe tbody tr th:only-of-type {\n",
       "        vertical-align: middle;\n",
       "    }\n",
       "\n",
       "    .dataframe tbody tr th {\n",
       "        vertical-align: top;\n",
       "    }\n",
       "\n",
       "    .dataframe thead th {\n",
       "        text-align: right;\n",
       "    }\n",
       "</style>\n",
       "<table border=\"1\" class=\"dataframe\">\n",
       "  <thead>\n",
       "    <tr style=\"text-align: right;\">\n",
       "      <th></th>\n",
       "      <th>97412_C43</th>\n",
       "      <th>GQ323774.1_RVC10genome</th>\n",
       "      <th>95114_C10</th>\n",
       "    </tr>\n",
       "  </thead>\n",
       "  <tbody>\n",
       "    <tr>\n",
       "      <th>0</th>\n",
       "      <td>0</td>\n",
       "      <td>93</td>\n",
       "      <td>90</td>\n",
       "    </tr>\n",
       "    <tr>\n",
       "      <th>1</th>\n",
       "      <td>93</td>\n",
       "      <td>0</td>\n",
       "      <td>20</td>\n",
       "    </tr>\n",
       "    <tr>\n",
       "      <th>2</th>\n",
       "      <td>90</td>\n",
       "      <td>20</td>\n",
       "      <td>0</td>\n",
       "    </tr>\n",
       "  </tbody>\n",
       "</table>\n",
       "</div>"
      ],
      "text/plain": [
       "   97412_C43  GQ323774.1_RVC10genome  95114_C10\n",
       "0          0                      93         90\n",
       "1         93                       0         20\n",
       "2         90                      20          0"
      ]
     },
     "metadata": {},
     "output_type": "display_data"
    }
   ],
   "source": [
    "# read the output\n",
    "import pandas as pd\n",
    "\n",
    "pairdist = pd.read_csv('test_realign.csv',sep='\\t')\n",
    "display(pairdist)\n"
   ]
  },
  {
   "cell_type": "code",
   "execution_count": 17,
   "id": "076df9fe-81af-49bc-8fd5-e37d8ac0e683",
   "metadata": {},
   "outputs": [
    {
     "data": {
      "text/html": [
       "<div>\n",
       "<style scoped>\n",
       "    .dataframe tbody tr th:only-of-type {\n",
       "        vertical-align: middle;\n",
       "    }\n",
       "\n",
       "    .dataframe tbody tr th {\n",
       "        vertical-align: top;\n",
       "    }\n",
       "\n",
       "    .dataframe thead th {\n",
       "        text-align: right;\n",
       "    }\n",
       "</style>\n",
       "<table border=\"1\" class=\"dataframe\">\n",
       "  <thead>\n",
       "    <tr style=\"text-align: right;\">\n",
       "      <th></th>\n",
       "      <th>97816_A8</th>\n",
       "      <th>98103_B48</th>\n",
       "      <th>97412_C43</th>\n",
       "      <th>GQ323774.1_RVC10genome</th>\n",
       "      <th>95114_C10</th>\n",
       "    </tr>\n",
       "  </thead>\n",
       "  <tbody>\n",
       "    <tr>\n",
       "      <th>0</th>\n",
       "      <td>0</td>\n",
       "      <td>171</td>\n",
       "      <td>138</td>\n",
       "      <td>138</td>\n",
       "      <td>139</td>\n",
       "    </tr>\n",
       "    <tr>\n",
       "      <th>1</th>\n",
       "      <td>171</td>\n",
       "      <td>0</td>\n",
       "      <td>155</td>\n",
       "      <td>154</td>\n",
       "      <td>163</td>\n",
       "    </tr>\n",
       "    <tr>\n",
       "      <th>2</th>\n",
       "      <td>138</td>\n",
       "      <td>155</td>\n",
       "      <td>0</td>\n",
       "      <td>93</td>\n",
       "      <td>90</td>\n",
       "    </tr>\n",
       "    <tr>\n",
       "      <th>3</th>\n",
       "      <td>138</td>\n",
       "      <td>154</td>\n",
       "      <td>93</td>\n",
       "      <td>0</td>\n",
       "      <td>20</td>\n",
       "    </tr>\n",
       "    <tr>\n",
       "      <th>4</th>\n",
       "      <td>139</td>\n",
       "      <td>163</td>\n",
       "      <td>90</td>\n",
       "      <td>20</td>\n",
       "      <td>0</td>\n",
       "    </tr>\n",
       "  </tbody>\n",
       "</table>\n",
       "</div>"
      ],
      "text/plain": [
       "   97816_A8  98103_B48  97412_C43  GQ323774.1_RVC10genome  95114_C10\n",
       "0         0        171        138                     138        139\n",
       "1       171          0        155                     154        163\n",
       "2       138        155          0                      93         90\n",
       "3       138        154         93                       0         20\n",
       "4       139        163         90                      20          0"
      ]
     },
     "metadata": {},
     "output_type": "display_data"
    }
   ],
   "source": [
    "# Use pairsnp on command line to calculate the pairwise distances\n",
    "!pairsnp -f test_align.fasta -t dist -o test_align.csv\n",
    "pairdist = pd.read_csv('test_align.csv',sep='\\t')\n",
    "display(pairdist)"
   ]
  }
 ],
 "metadata": {
  "kernelspec": {
   "display_name": "Python 3 (ipykernel)",
   "language": "python",
   "name": "python3"
  },
  "language_info": {
   "codemirror_mode": {
    "name": "ipython",
    "version": 3
   },
   "file_extension": ".py",
   "mimetype": "text/x-python",
   "name": "python",
   "nbconvert_exporter": "python",
   "pygments_lexer": "ipython3",
   "version": "3.9.18"
  }
 },
 "nbformat": 4,
 "nbformat_minor": 5
}
