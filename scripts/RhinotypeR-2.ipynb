{
 "cells": [
  {
   "cell_type": "markdown",
   "id": "e950abe6-465b-4dfe-86c7-d8e1a6bbd646",
   "metadata": {},
   "source": [
    "# Include a for loop within functions\n",
    "\n",
    "# Countsnps\n",
    "    - input: query and reference fasta file\n",
    "    - output: matrix (snp count)\n",
    "# calcpdistance \n",
    "    - input: query and reference fasta file\n",
    "    - output: matrix (pairwise distance)\n",
    "# Assigngenotypes \n",
    "    - input: matrix (pairwise distance)\n",
    "    - output: csv file (user sample names, reference name, the corresponding pairwise distance)"
   ]
  },
  {
   "cell_type": "code",
   "execution_count": 2,
   "id": "3630fc36-e5bd-403b-b3b5-0d57705c93ba",
   "metadata": {},
   "outputs": [],
   "source": [
    "\n",
    "readFasta <- function(fastaFile) {\n",
    "  # Read all lines from the FASTA file\n",
    "  lines <- readLines(fastaFile)\n",
    "  \n",
    "  # Initialize lists to store sequences and their headers\n",
    "  seqList <- list() # Empty list\n",
    "  headerList <- c() # Empty vector\n",
    "  \n",
    "  # Temporary storage for the current sequence being read\n",
    "  currentSeq <- NULL\n",
    "  \n",
    "  # Iterate through each line of the FASTA file\n",
    "  for (line in lines) {\n",
    "    if (startsWith(line, \">\")) {\n",
    "      # If currentSeq is not NULL, it means we've finished reading a sequence\n",
    "      # Add it to seqList\n",
    "      if (!is.null(currentSeq)) {\n",
    "        seqList[[length(seqList) + 1]] <- paste(currentSeq, collapse = \"\")\n",
    "      }\n",
    "      # Reset currentSeq for the next sequence\n",
    "      currentSeq <- c()\n",
    "      # Add the header (without the \">\" character) to headerList\n",
    "      headerList <- c(headerList, substring(line, 2))\n",
    "    } else {\n",
    "      # If the line is not a header, it's part of the current sequence\n",
    "      # Convert it to uppercase and add it to currentSeq\n",
    "      currentSeq <- c(currentSeq, toupper(line))\n",
    "    }\n",
    "  }\n",
    "  \n",
    "  # After the loop, add the last sequence to seqList if it exists\n",
    "  if (!is.null(currentSeq)) {\n",
    "    seqList[[length(seqList) + 1]] <- paste(currentSeq, collapse = \"\")\n",
    "  }\n",
    "  \n",
    "  # Return a list containing the sequences and their corresponding headers\n",
    "  return(list(sequences = seqList, headers = headerList))\n",
    "}\n",
    "                   \n",
    "    "
   ]
  },
  {
   "cell_type": "code",
   "execution_count": 3,
   "id": "b88dc173-64e0-40d1-952b-4a8e27a5a947",
   "metadata": {},
   "outputs": [],
   "source": [
    "# Count the SNPs\n",
    "countSNPs <- function(pathToRef, pathToQuery) {\n",
    "  # Read reference sequences and headers\n",
    "  fastaRef <- readFasta(pathToRef)\n",
    "  refs <- fastaRef$sequences\n",
    "  refHeaders <- fastaRef$headers\n",
    "  \n",
    "  # Read query sequences and headers\n",
    "  fastaQuery <- readFasta(pathToQuery)\n",
    "  queries <- fastaQuery$sequences\n",
    "  queryHeaders <- fastaQuery$headers\n",
    "  \n",
    "  # Initialize matrix to store SNP counts\n",
    "  snpMatrix <- matrix(nrow = length(queries), ncol = length(refs))\n",
    "  \n",
    "  # Convert reference sequences to character vectors\n",
    "  refSeqs <- lapply(refs, function(ref) unlist(strsplit(ref, split = \"\")))\n",
    "  \n",
    "  # Iterate over each query sequence\n",
    "  for (q in seq_along(queries)) {\n",
    "    query <- queries[[q]]\n",
    "    queryHeader <- queryHeaders[[q]]\n",
    "    \n",
    "    # Convert query sequence to character vector\n",
    "    queryChars <- unlist(strsplit(query, split = \"\"))\n",
    "    \n",
    "    # Iterate over each reference sequence\n",
    "    for (i in seq_along(refSeqs)) {\n",
    "      refChars <- refSeqs[[i]]\n",
    "      \n",
    "      # Ensure both sequences are of the same length for comparison\n",
    "      if (length(refChars) == length(queryChars)) {\n",
    "        # Count the differences (SNPs)\n",
    "        snpMatrix[q, i] <- sum(refChars != queryChars)\n",
    "      } else {\n",
    "        snpMatrix[q, i] <- NA  # Mark as NA if sequences are of different lengths (I have a problem with this, how do we actually test this?(perform inhouse alignment))\n",
    "      }\n",
    "    }\n",
    "  }\n",
    "  \n",
    "  # Set row and column names\n",
    "  rownames(snpMatrix) <- queryHeaders\n",
    "  colnames(snpMatrix) <- refHeaders\n",
    "  \n",
    "  # Return SNP counts matrix\n",
    "  return(snpMatrix)\n",
    "}"
   ]
  },
  {
   "cell_type": "markdown",
   "id": "b9f0e2c6-9417-4d1e-91ae-c80ac6a0192c",
   "metadata": {},
   "source": [
    "###### - This section of countSNPs needs further discussion with other members\n",
    "\n",
    "`if (length(refChars) == length(queryChars)) {\n",
    "        # Count the differences (SNPs)\n",
    "        snpMatrix[q, i] <- sum(refChars != queryChars)\n",
    "      } else {\n",
    "        snpMatrix[q, i] <- NA\n",
    "    \n",
    "` \n",
    "\n",
    "#Mark as NA if sequences are of different lengths (I have a problem with this, how do we actually test this?(perform inhouse alignment))"
   ]
  },
  {
   "cell_type": "code",
   "execution_count": 11,
   "id": "834d7b5a-cf48-4a7f-b7f8-b5a18ee0ba94",
   "metadata": {},
   "outputs": [],
   "source": [
    "calcPDistance <- function(pathToRef, pathToQuery) {\n",
    "  # Read reference sequences and headers\n",
    "  fastaRef <- readFasta(pathToRef)\n",
    "  refs <- fastaRef$sequences\n",
    "  refHeaders <- fastaRef$headers\n",
    "  \n",
    "  # Read query sequences and headers\n",
    "  fastaQuery <- readFasta(pathToQuery)\n",
    "  queries <- fastaQuery$sequences\n",
    "  queryHeaders <- fastaQuery$headers\n",
    "  \n",
    "  # Initialize matrix to store p-distances\n",
    "  pDistancesMatrix <- matrix(nrow = length(queries), ncol = length(refs))\n",
    "  \n",
    "  # Iterate over each query sequence\n",
    "  for (q in seq_along(queries)) {\n",
    "    query <- queries[[q]]\n",
    "    queryHeader <- queryHeaders[[q]]\n",
    "    \n",
    "    # Count SNPs between the query and each reference sequence\n",
    "    snpCounts <- countSNPs(pathToRef, pathToQuery)\n",
    "    \n",
    "    # Calculate p-distance for each reference sequence\n",
    "    for (i in seq_along(refHeaders)) {\n",
    "      ref <- refs[[i]]\n",
    "        #print(ref) Debugging\n",
    "      snpCount <- snpCounts[q, i]  # SNP count between query and reference\n",
    "      \n",
    "      # Calculate p-distance\n",
    "      pDistancesMatrix[q, i] <- snpCount / nchar(ref)\n",
    "    }\n",
    "  }\n",
    "  \n",
    "  # Set row and column names\n",
    "  rownames(pDistancesMatrix) <- queryHeaders\n",
    "  colnames(pDistancesMatrix) <- refHeaders\n",
    "  \n",
    "  return(pDistancesMatrix)\n",
    "}\n"
   ]
  },
  {
   "cell_type": "code",
   "execution_count": 12,
   "id": "65563cdd-5150-4ed6-90b7-121611c2370d",
   "metadata": {},
   "outputs": [
    {
     "data": {
      "text/html": [
       "<table class=\"dataframe\">\n",
       "<caption>A matrix: 3 × 5 of type int</caption>\n",
       "<thead>\n",
       "\t<tr><th></th><th scope=col>97816_A8</th><th scope=col>98103_B48</th><th scope=col>97412_C43</th><th scope=col>GQ323774.1_RVC10genome</th><th scope=col>95114_C10</th></tr>\n",
       "</thead>\n",
       "<tbody>\n",
       "\t<tr><th scope=row>sample43</th><td>156</td><td>182</td><td>  0</td><td>101</td><td>90</td></tr>\n",
       "\t<tr><th scope=row>sample10</th><td>164</td><td>173</td><td>101</td><td>  0</td><td>28</td></tr>\n",
       "\t<tr><th scope=row>sample10</th><td>157</td><td>190</td><td> 90</td><td> 28</td><td> 0</td></tr>\n",
       "</tbody>\n",
       "</table>\n"
      ],
      "text/latex": [
       "A matrix: 3 × 5 of type int\n",
       "\\begin{tabular}{r|lllll}\n",
       "  & 97816\\_A8 & 98103\\_B48 & 97412\\_C43 & GQ323774.1\\_RVC10genome & 95114\\_C10\\\\\n",
       "\\hline\n",
       "\tsample43 & 156 & 182 &   0 & 101 & 90\\\\\n",
       "\tsample10 & 164 & 173 & 101 &   0 & 28\\\\\n",
       "\tsample10 & 157 & 190 &  90 &  28 &  0\\\\\n",
       "\\end{tabular}\n"
      ],
      "text/markdown": [
       "\n",
       "A matrix: 3 × 5 of type int\n",
       "\n",
       "| <!--/--> | 97816_A8 | 98103_B48 | 97412_C43 | GQ323774.1_RVC10genome | 95114_C10 |\n",
       "|---|---|---|---|---|---|\n",
       "| sample43 | 156 | 182 |   0 | 101 | 90 |\n",
       "| sample10 | 164 | 173 | 101 |   0 | 28 |\n",
       "| sample10 | 157 | 190 |  90 |  28 |  0 |\n",
       "\n"
      ],
      "text/plain": [
       "         97816_A8 98103_B48 97412_C43 GQ323774.1_RVC10genome 95114_C10\n",
       "sample43 156      182         0       101                    90       \n",
       "sample10 164      173       101         0                    28       \n",
       "sample10 157      190        90        28                     0       "
      ]
     },
     "metadata": {},
     "output_type": "display_data"
    }
   ],
   "source": [
    "# Count snps (query vs ref)\n",
    "countSNPs('test_align.fasta','test_align_1_usernames.fasta')\n"
   ]
  },
  {
   "cell_type": "code",
   "execution_count": 13,
   "id": "64074288-7a2d-4127-a6c3-da2f165f9fad",
   "metadata": {},
   "outputs": [
    {
     "data": {
      "text/html": [
       "<table class=\"dataframe\">\n",
       "<caption>A matrix: 3 × 5 of type dbl</caption>\n",
       "<thead>\n",
       "\t<tr><th></th><th scope=col>97816_A8</th><th scope=col>98103_B48</th><th scope=col>97412_C43</th><th scope=col>GQ323774.1_RVC10genome</th><th scope=col>95114_C10</th></tr>\n",
       "</thead>\n",
       "<tbody>\n",
       "\t<tr><th scope=row>sample43</th><td>0.3489933</td><td>0.4071588</td><td>0.0000000</td><td>0.22595078</td><td>0.20134228</td></tr>\n",
       "\t<tr><th scope=row>sample10</th><td>0.3668904</td><td>0.3870246</td><td>0.2259508</td><td>0.00000000</td><td>0.06263982</td></tr>\n",
       "\t<tr><th scope=row>sample10</th><td>0.3512304</td><td>0.4250559</td><td>0.2013423</td><td>0.06263982</td><td>0.00000000</td></tr>\n",
       "</tbody>\n",
       "</table>\n"
      ],
      "text/latex": [
       "A matrix: 3 × 5 of type dbl\n",
       "\\begin{tabular}{r|lllll}\n",
       "  & 97816\\_A8 & 98103\\_B48 & 97412\\_C43 & GQ323774.1\\_RVC10genome & 95114\\_C10\\\\\n",
       "\\hline\n",
       "\tsample43 & 0.3489933 & 0.4071588 & 0.0000000 & 0.22595078 & 0.20134228\\\\\n",
       "\tsample10 & 0.3668904 & 0.3870246 & 0.2259508 & 0.00000000 & 0.06263982\\\\\n",
       "\tsample10 & 0.3512304 & 0.4250559 & 0.2013423 & 0.06263982 & 0.00000000\\\\\n",
       "\\end{tabular}\n"
      ],
      "text/markdown": [
       "\n",
       "A matrix: 3 × 5 of type dbl\n",
       "\n",
       "| <!--/--> | 97816_A8 | 98103_B48 | 97412_C43 | GQ323774.1_RVC10genome | 95114_C10 |\n",
       "|---|---|---|---|---|---|\n",
       "| sample43 | 0.3489933 | 0.4071588 | 0.0000000 | 0.22595078 | 0.20134228 |\n",
       "| sample10 | 0.3668904 | 0.3870246 | 0.2259508 | 0.00000000 | 0.06263982 |\n",
       "| sample10 | 0.3512304 | 0.4250559 | 0.2013423 | 0.06263982 | 0.00000000 |\n",
       "\n"
      ],
      "text/plain": [
       "         97816_A8  98103_B48 97412_C43 GQ323774.1_RVC10genome 95114_C10 \n",
       "sample43 0.3489933 0.4071588 0.0000000 0.22595078             0.20134228\n",
       "sample10 0.3668904 0.3870246 0.2259508 0.00000000             0.06263982\n",
       "sample10 0.3512304 0.4250559 0.2013423 0.06263982             0.00000000"
      ]
     },
     "metadata": {},
     "output_type": "display_data"
    }
   ],
   "source": [
    "calcPDistance('test_align.fasta','test_align_1_usernames.fasta')\n"
   ]
  },
  {
   "cell_type": "code",
   "execution_count": 7,
   "id": "0fd84129-b69f-49a4-89b7-f63a8f65dd85",
   "metadata": {},
   "outputs": [],
   "source": [
    "# Evaluate each row entry for assigning the genotypes\n",
    "# In each row check for the lowest value and compare it to a given threshold and assign thatgiven row the corresponding column header\n",
    "# In progress"
   ]
  }
 ],
 "metadata": {
  "kernelspec": {
   "display_name": "R",
   "language": "R",
   "name": "ir"
  },
  "language_info": {
   "codemirror_mode": "r",
   "file_extension": ".r",
   "mimetype": "text/x-r-source",
   "name": "R",
   "pygments_lexer": "r",
   "version": "4.3.3"
  }
 },
 "nbformat": 4,
 "nbformat_minor": 5
}
